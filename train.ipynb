{
 "cells": [
  {
   "cell_type": "code",
   "execution_count": null,
   "id": "4a99cc9d",
   "metadata": {},
   "outputs": [],
   "source": [
    "from data_process import data_preprocessing\n",
    "from feature_selector import LGBMFeatureSelector\n",
    "from optimizer import LGBMRollingClassifier\n",
    "from backtesting import backtesting\n",
    "import polars as pl\n",
    "\n",
    "import warnings\n",
    "warnings.filterwarnings(\"ignore\")"
   ]
  },
  {
   "cell_type": "code",
   "execution_count": null,
   "id": "28b49d43",
   "metadata": {},
   "outputs": [],
   "source": [
    "# 1、資料前處理\n",
    "dataset = data_preprocessing()\n",
    "dataset = (dataset.to_pandas()).set_index('date')  # 转为 Pandas DataFrame 并设置日期为索引"
   ]
  },
  {
   "cell_type": "code",
   "execution_count": null,
   "id": "9391bb0f",
   "metadata": {},
   "outputs": [],
   "source": [
    "# 2、構建特徵與標籤\n",
    "# 90日涨跌幅大于10%标记为1，否则为0\n",
    "returns = dataset['close'].pct_change()\n",
    "dataset['target'] = ((dataset['close'].shift(-90)/dataset['close'] - 1).dropna() > 0.1).astype(int)\n",
    "\n",
    "def split_data(dataset,split_date):\n",
    "    \"\"\"\"\"\"\n",
    "    # 特征：移除目标列\n",
    "    X = dataset.drop(['target'],axis=1)\n",
    "    y = dataset['target']\n",
    "\n",
    "    # 训练集：分割日期之前的数据\n",
    "    X_train = X.loc[X.index < split_date]\n",
    "    y_train = y.loc[y.index < split_date]\n",
    "\n",
    "    # 测试集：分割日期之后的数据\n",
    "    X_test = X.loc[X.index >= split_date]\n",
    "    y_test = y.loc[y.index >= split_date]\n",
    "\n",
    "    # 检查分割结果\n",
    "    print(f\"训练集日期范围: {X_train.index.min()} 至 {X_train.index.max()}\")\n",
    "    print(f\"测试集日期范围: {X_test.index.min()} 至 {X_test.index.max()}\")\n",
    "    print(f\"训练集样本数: {len(X_train)}\")\n",
    "    print(f\"测试集样本数: {len(X_test)}\")\n",
    "\n",
    "    return X_train,X_test,y_train,y_test\n",
    "\n",
    "dataset = dataset.drop(['close'],axis=1)\n",
    "x_train, x_test, y_train, y_test = split_data(dataset.dropna(), '2023-03-01')"
   ]
  },
  {
   "cell_type": "code",
   "execution_count": null,
   "id": "1ba59f91",
   "metadata": {},
   "outputs": [],
   "source": [
    "# 3、特征选择\n",
    "# 只保留数值型特征，去除object类型（如symbol、period等）\n",
    "x_train_num = x_train.select_dtypes(include=['int64', 'float64', 'bool'])\n",
    "\n",
    "features = LGBMFeatureSelector(model_type='clf', itype='gain', n=30, random_state=42).transform(x_train_num, y_train)\n"
   ]
  },
  {
   "cell_type": "code",
   "execution_count": null,
   "id": "9af75275",
   "metadata": {},
   "outputs": [],
   "source": [
    "features"
   ]
  },
  {
   "cell_type": "code",
   "execution_count": null,
   "id": "717ac3ab",
   "metadata": {},
   "outputs": [],
   "source": [
    "# 4、模型训练与评估\n",
    "\n",
    "# 使用 optuna 内存模式，避免数据库文件错误\n",
    "model = LGBMRollingClassifier().optimizer(X=features, y=y_train)"
   ]
  },
  {
   "cell_type": "code",
   "execution_count": null,
   "id": "9c8aa6c3",
   "metadata": {},
   "outputs": [],
   "source": [
    "# 5、信号生成与回测\n",
    "import pandas as pd\n",
    "\n",
    "df = pd.merge(pd.DataFrame(data=model.predict(x_test.loc[:, features.columns.tolist()]), index=x_test.index, columns=['y_pred']),\n",
    "              returns.shift(-1), left_index=True, right_index=True)\n",
    "\n",
    "df.rename(columns={'close':'return'},inplace=True)\n",
    "\n",
    "df = pl.from_dataframe(df.reset_index()).with_columns(pl.lit('1101.TW').alias('symbol'))  # 添加 symbol 列\n",
    "\n",
    "\n",
    "backtesting(df=df)"
   ]
  },
  {
   "cell_type": "code",
   "execution_count": null,
   "id": "6f3bd672",
   "metadata": {},
   "outputs": [],
   "source": [
    "returns.shift(-1)"
   ]
  },
  {
   "cell_type": "code",
   "execution_count": null,
   "id": "9121f199",
   "metadata": {},
   "outputs": [],
   "source": []
  }
 ],
 "metadata": {
  "kernelspec": {
   "display_name": "quanthub",
   "language": "python",
   "name": "python3"
  },
  "language_info": {
   "codemirror_mode": {
    "name": "ipython",
    "version": 3
   },
   "file_extension": ".py",
   "mimetype": "text/x-python",
   "name": "python",
   "nbconvert_exporter": "python",
   "pygments_lexer": "ipython3",
   "version": "3.12.3"
  }
 },
 "nbformat": 4,
 "nbformat_minor": 5
}
